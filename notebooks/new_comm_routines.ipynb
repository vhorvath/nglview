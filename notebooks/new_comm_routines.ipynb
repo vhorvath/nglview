{
 "cells": [
  {
   "cell_type": "code",
   "execution_count": 1,
   "metadata": {},
   "outputs": [
    {
     "data": {
      "application/vnd.jupyter.widget-view+json": {
       "model_id": "44317176a25b47c7a1f697e6a903fcd3",
       "version_major": 2,
       "version_minor": 0
      },
      "text/plain": [
       "_ColormakerRegistry()"
      ]
     },
     "metadata": {},
     "output_type": "display_data"
    }
   ],
   "source": [
    "# Magic happens here\n",
    "%load_ext autoreload\n",
    "%autoreload 2\n",
    "%aimport nglview\n",
    "# !wget https://files.rcsb.org/download/6URH.pdb\n",
    "# !wget https://files.rcsb.org/download/6PCM.pdb"
   ]
  },
  {
   "cell_type": "code",
   "execution_count": 2,
   "metadata": {},
   "outputs": [],
   "source": [
    "# Mandatory import\n",
    "import nglview as nv\n",
    "import time"
   ]
  },
  {
   "cell_type": "code",
   "execution_count": 3,
   "metadata": {
    "scrolled": true
   },
   "outputs": [
    {
     "data": {
      "application/vnd.jupyter.widget-view+json": {
       "model_id": "7883c778949e41f79ea8454943a52a97",
       "version_major": 2,
       "version_minor": 0
      },
      "text/plain": [
       "NGLWidget()"
      ]
     },
     "metadata": {},
     "output_type": "display_data"
    }
   ],
   "source": [
    "# NGL initialization\n",
    "view = nv.NGLWidget()\n",
    "display(view)\n",
    "time.sleep(0.1)"
   ]
  },
  {
   "cell_type": "code",
   "execution_count": 4,
   "metadata": {},
   "outputs": [
    {
     "name": "stdout",
     "output_type": "stream",
     "text": [
      "1\n",
      "2\n"
     ]
    }
   ],
   "source": [
    "# Loading components\n",
    "view.add_component('6urh.pdb')\n",
    "print(view._get_remote_prop('stage.compList.length'))\n",
    "\n",
    "view.add_component('6pcm.pdb')\n",
    "print(view._get_remote_prop('stage.compList.length'))"
   ]
  },
  {
   "cell_type": "code",
   "execution_count": 5,
   "metadata": {},
   "outputs": [
    {
     "name": "stdout",
     "output_type": "stream",
     "text": [
      "300\n",
      "954.825\n",
      "['57d08c61-04a6-46fd-a8fb-2e404edaf388', '2dea95ae-0451-465a-a134-2b2a4c10296a']\n",
      "['9726021a-2043-4197-9ac7-4f88f609d6e8', 'c980a670-9f64-4a71-be5f-bf2571b85213']\n"
     ]
    }
   ],
   "source": [
    "# Testing new property accessors\n",
    "print(view._get_remote_prop('$container.height()'))\n",
    "print(view._get_remote_prop('$container.width()'))\n",
    "print(view._js_ngl_component_ids)\n",
    "print(view._ngl_component_ids)"
   ]
  }
 ],
 "metadata": {
  "kernelspec": {
   "display_name": "Python 3",
   "language": "python",
   "name": "python3"
  },
  "language_info": {
   "codemirror_mode": {
    "name": "ipython",
    "version": 3
   },
   "file_extension": ".py",
   "mimetype": "text/x-python",
   "name": "python",
   "nbconvert_exporter": "python",
   "pygments_lexer": "ipython3",
   "version": "3.7.3"
  }
 },
 "nbformat": 4,
 "nbformat_minor": 2
}
